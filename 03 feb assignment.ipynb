{
 "cells": [
  {
   "cell_type": "code",
   "execution_count": null,
   "id": "7ab4a2e3-96c8-4646-b005-b2deeaccacb7",
   "metadata": {},
   "outputs": [],
   "source": [
    "Ans1."
   ]
  },
  {
   "cell_type": "code",
   "execution_count": null,
   "id": "7e08dc40-ae78-4ad4-9efb-88cef094abf9",
   "metadata": {},
   "outputs": [],
   "source": [
    "def keyword is used to create function"
   ]
  },
  {
   "cell_type": "code",
   "execution_count": 25,
   "id": "727827ea-3ed7-4137-a675-82b034092d9d",
   "metadata": {},
   "outputs": [],
   "source": [
    "l=list(range(1,26))"
   ]
  },
  {
   "cell_type": "code",
   "execution_count": 26,
   "id": "c67e9412-ba4a-498b-b69d-256567ff4b6e",
   "metadata": {},
   "outputs": [],
   "source": [
    "l1=[]\n",
    "def func (l):\n",
    "    for i in l:\n",
    "        if i%2 != 0:\n",
    "            l1.append(i)\n",
    "    return l1       \n",
    "\n",
    "    "
   ]
  },
  {
   "cell_type": "code",
   "execution_count": 27,
   "id": "07da09b8-f7d6-4658-869b-196d474b49d1",
   "metadata": {},
   "outputs": [
    {
     "data": {
      "text/plain": [
       "[1, 3, 5, 7, 9, 11, 13, 15, 17, 19, 21, 23, 25]"
      ]
     },
     "execution_count": 27,
     "metadata": {},
     "output_type": "execute_result"
    }
   ],
   "source": [
    "func(l)"
   ]
  },
  {
   "cell_type": "code",
   "execution_count": null,
   "id": "2f2cf473-6eb9-44f5-948f-7d1ec1132122",
   "metadata": {},
   "outputs": [],
   "source": [
    "Ans 2."
   ]
  },
  {
   "cell_type": "code",
   "execution_count": null,
   "id": "11688b5c-4a13-4390-bf39-4ba18c1d8658",
   "metadata": {},
   "outputs": [],
   "source": [
    "*args allow us to pass the variable number of non keywordnarguments to function.\n",
    "**kwargs allow us to pass the variable length of keyword arguments to the function."
   ]
  },
  {
   "cell_type": "code",
   "execution_count": 28,
   "id": "30bb6098-699c-4df1-810e-7af7d6200716",
   "metadata": {},
   "outputs": [],
   "source": [
    "#example of *args\n",
    "def test1(*args):\n",
    "    return args"
   ]
  },
  {
   "cell_type": "code",
   "execution_count": 29,
   "id": "2daf6abc-4e25-4c99-8a62-6e9c76e3891f",
   "metadata": {},
   "outputs": [
    {
     "data": {
      "text/plain": [
       "(1, 2, 3)"
      ]
     },
     "execution_count": 29,
     "metadata": {},
     "output_type": "execute_result"
    }
   ],
   "source": [
    "test1(1,2,3)"
   ]
  },
  {
   "cell_type": "code",
   "execution_count": 31,
   "id": "78c94576-be75-426b-8795-a36c2ee09c10",
   "metadata": {},
   "outputs": [],
   "source": [
    "#example of **kwargs\n",
    "def test2(**kwargs):\n",
    "    return kwargs"
   ]
  },
  {
   "cell_type": "code",
   "execution_count": 32,
   "id": "bc5baa44-f26b-420d-8cb0-8a91074dd226",
   "metadata": {},
   "outputs": [
    {
     "data": {
      "text/plain": [
       "{'a': [4, 5, 6, 7], 'b': 'arjun', 'c': 23.45}"
      ]
     },
     "execution_count": 32,
     "metadata": {},
     "output_type": "execute_result"
    }
   ],
   "source": [
    "test2(a=[4,5,6,7],b=\"arjun\",c=23.45)"
   ]
  },
  {
   "cell_type": "code",
   "execution_count": null,
   "id": "4e8710fc-dac5-4303-b595-599ad9e8cd03",
   "metadata": {},
   "outputs": [],
   "source": [
    "Ans3."
   ]
  },
  {
   "cell_type": "code",
   "execution_count": null,
   "id": "b39ea397-05b0-4f13-97d4-0e710b12e67e",
   "metadata": {},
   "outputs": [],
   "source": [
    "An iterator is an object that can be iterated upon , meaning that you can traverse through all the values. "
   ]
  },
  {
   "cell_type": "code",
   "execution_count": null,
   "id": "cda971b1-63ac-4d5d-ac22-2788f83254ae",
   "metadata": {},
   "outputs": [],
   "source": [
    "The iterator method is initialized using the iter() method.\n",
    "It uses the next() method for iteration."
   ]
  },
  {
   "cell_type": "code",
   "execution_count": 33,
   "id": "ebd596d2-00c0-43e3-ad42-0afed6efa5ac",
   "metadata": {},
   "outputs": [],
   "source": [
    "s=[2,4,6,8,10,12,14,16,18,20]"
   ]
  },
  {
   "cell_type": "code",
   "execution_count": 34,
   "id": "1a43f48e-ba59-4591-9e9c-686b3a14fcf1",
   "metadata": {},
   "outputs": [],
   "source": [
    "s1=iter(s)"
   ]
  },
  {
   "cell_type": "code",
   "execution_count": 35,
   "id": "23906804-d58c-4d4b-b9ea-c370ab5e6bcb",
   "metadata": {},
   "outputs": [
    {
     "data": {
      "text/plain": [
       "2"
      ]
     },
     "execution_count": 35,
     "metadata": {},
     "output_type": "execute_result"
    }
   ],
   "source": [
    "next(s1)"
   ]
  },
  {
   "cell_type": "code",
   "execution_count": 36,
   "id": "dc89a515-2443-4fa7-9197-ac649ef31e64",
   "metadata": {},
   "outputs": [
    {
     "data": {
      "text/plain": [
       "4"
      ]
     },
     "execution_count": 36,
     "metadata": {},
     "output_type": "execute_result"
    }
   ],
   "source": [
    "next(s1)"
   ]
  },
  {
   "cell_type": "code",
   "execution_count": 37,
   "id": "448bbcd1-216e-4941-9e10-825c5cae9dcb",
   "metadata": {},
   "outputs": [
    {
     "data": {
      "text/plain": [
       "6"
      ]
     },
     "execution_count": 37,
     "metadata": {},
     "output_type": "execute_result"
    }
   ],
   "source": [
    "next(s1)"
   ]
  },
  {
   "cell_type": "code",
   "execution_count": 38,
   "id": "8547759c-6ec9-4c24-b728-f6e688512088",
   "metadata": {},
   "outputs": [
    {
     "data": {
      "text/plain": [
       "8"
      ]
     },
     "execution_count": 38,
     "metadata": {},
     "output_type": "execute_result"
    }
   ],
   "source": [
    "next(s1)"
   ]
  },
  {
   "cell_type": "code",
   "execution_count": 39,
   "id": "dae65c44-ebf0-451e-8581-2696f003b7dc",
   "metadata": {},
   "outputs": [
    {
     "data": {
      "text/plain": [
       "10"
      ]
     },
     "execution_count": 39,
     "metadata": {},
     "output_type": "execute_result"
    }
   ],
   "source": [
    "next(s1)"
   ]
  },
  {
   "cell_type": "code",
   "execution_count": null,
   "id": "edd3fc69-f89b-4e6a-9dff-4f36de0c80d1",
   "metadata": {},
   "outputs": [],
   "source": [
    "Ans4."
   ]
  },
  {
   "cell_type": "code",
   "execution_count": null,
   "id": "52bfd7d3-208b-454d-ac5a-34e6af78f6c4",
   "metadata": {},
   "outputs": [],
   "source": [
    "generator function generates our outcomes continuously without folding anything in memory.\n",
    "Yield is used to return values or objects in python.\n",
    "\n"
   ]
  },
  {
   "cell_type": "code",
   "execution_count": 40,
   "id": "d18970b8-80dc-4f31-9c94-5a7e801c5c4b",
   "metadata": {},
   "outputs": [],
   "source": [
    "def test_fib(n):\n",
    "    a,b=0,1\n",
    "    for i in range(n):\n",
    "        yield a\n",
    "        a,b = b, a+b"
   ]
  },
  {
   "cell_type": "code",
   "execution_count": 41,
   "id": "2757ab30-f9c8-4e0b-85a0-325586a2eb42",
   "metadata": {},
   "outputs": [
    {
     "data": {
      "text/plain": [
       "<generator object test_fib at 0x7ff254550b30>"
      ]
     },
     "execution_count": 41,
     "metadata": {},
     "output_type": "execute_result"
    }
   ],
   "source": [
    "test_fib(10)"
   ]
  },
  {
   "cell_type": "code",
   "execution_count": 42,
   "id": "bf70bd3d-a937-40ad-85f3-70d7fb99ed37",
   "metadata": {},
   "outputs": [
    {
     "name": "stdout",
     "output_type": "stream",
     "text": [
      "0\n",
      "1\n",
      "1\n",
      "2\n",
      "3\n",
      "5\n",
      "8\n",
      "13\n",
      "21\n",
      "34\n"
     ]
    }
   ],
   "source": [
    "for i in test_fib(10):\n",
    "    print(i)"
   ]
  },
  {
   "cell_type": "code",
   "execution_count": null,
   "id": "fcadbea3-8106-44c0-a1ca-2f7756c77f44",
   "metadata": {},
   "outputs": [],
   "source": [
    "Ans 5."
   ]
  },
  {
   "cell_type": "code",
   "execution_count": 14,
   "id": "88121f5c-fd72-4894-9180-a04978d01ba6",
   "metadata": {},
   "outputs": [],
   "source": [
    "from math import sqrt\n",
    "def is_prime(n):\n",
    "    if(n<=1):\n",
    "        return False\n",
    "    if(n == 2):\n",
    "        return True\n",
    "    if(n%2==0):\n",
    "        return False\n",
    "    i=3\n",
    "    while i <= sqrt(n):\n",
    "        if n % i == 0:\n",
    "            return False\n",
    "        i=i+2\n",
    "    return True"
   ]
  },
  {
   "cell_type": "code",
   "execution_count": 15,
   "id": "f95ffc9d-563f-41b8-bf52-60ca3c31a898",
   "metadata": {},
   "outputs": [],
   "source": [
    "def prime_generator():\n",
    "    n=1\n",
    "    while n:\n",
    "        n+=1\n",
    "        if is_prime(n):\n",
    "            yield n\n",
    "            \n",
    "            "
   ]
  },
  {
   "cell_type": "code",
   "execution_count": 16,
   "id": "925d28ae-40ca-4782-93af-2dca4ad73cb3",
   "metadata": {},
   "outputs": [
    {
     "name": "stdout",
     "output_type": "stream",
     "text": [
      "2\n",
      "3\n",
      "5\n",
      "7\n",
      "11\n",
      "13\n",
      "17\n",
      "19\n",
      "23\n",
      "29\n",
      "31\n",
      "37\n",
      "41\n",
      "43\n",
      "47\n",
      "53\n",
      "59\n",
      "61\n",
      "67\n",
      "71\n"
     ]
    }
   ],
   "source": [
    "generator=prime_generator()\n",
    "for i in range(20):\n",
    "    print(next(generator))"
   ]
  },
  {
   "cell_type": "code",
   "execution_count": null,
   "id": "00923632-0ece-4063-95d6-7b9a0b41e5e8",
   "metadata": {},
   "outputs": [],
   "source": [
    "Ans6."
   ]
  },
  {
   "cell_type": "code",
   "execution_count": 5,
   "id": "65b5ef92-dcac-4d1c-9e04-ec09527eac12",
   "metadata": {},
   "outputs": [],
   "source": [
    "def test_fib1():\n",
    "    a,b=0,1\n",
    "    while True:\n",
    "        yield a\n",
    "        a,b = b, a+b"
   ]
  },
  {
   "cell_type": "code",
   "execution_count": 6,
   "id": "8e166618-c549-434d-bea1-0b3c0a3e392a",
   "metadata": {},
   "outputs": [],
   "source": [
    "fib =  test_fib1()"
   ]
  },
  {
   "cell_type": "code",
   "execution_count": 7,
   "id": "2d9b54bc-59b4-446f-b76d-5ea10d66453f",
   "metadata": {},
   "outputs": [
    {
     "name": "stdout",
     "output_type": "stream",
     "text": [
      "0\n",
      "1\n",
      "1\n",
      "2\n",
      "3\n",
      "5\n",
      "8\n",
      "13\n",
      "21\n",
      "34\n"
     ]
    }
   ],
   "source": [
    "for i in range(10):\n",
    "    print(next(fib))"
   ]
  },
  {
   "cell_type": "code",
   "execution_count": null,
   "id": "943af48b-196b-48e4-9c05-39ba69ae23e8",
   "metadata": {},
   "outputs": [],
   "source": [
    "Ans 7."
   ]
  },
  {
   "cell_type": "code",
   "execution_count": 17,
   "id": "78ed9fae-16ac-4a62-8060-277eb22f3a11",
   "metadata": {},
   "outputs": [],
   "source": [
    "s=\"pwskills\""
   ]
  },
  {
   "cell_type": "code",
   "execution_count": 18,
   "id": "17db2353-497b-44cf-9826-27abee84602e",
   "metadata": {},
   "outputs": [
    {
     "data": {
      "text/plain": [
       "['p', 'w', 's', 'k', 'i', 'l', 'l', 's']"
      ]
     },
     "execution_count": 18,
     "metadata": {},
     "output_type": "execute_result"
    }
   ],
   "source": [
    "[ i for i in s]"
   ]
  },
  {
   "cell_type": "code",
   "execution_count": null,
   "id": "056c56ca-fe0f-467b-b3da-96055e977de5",
   "metadata": {},
   "outputs": [],
   "source": [
    "Ans 8."
   ]
  },
  {
   "cell_type": "code",
   "execution_count": 19,
   "id": "fb2bce21-f358-47d4-ae48-871cede1f613",
   "metadata": {},
   "outputs": [
    {
     "name": "stdin",
     "output_type": "stream",
     "text": [
      "enter a number: 151\n"
     ]
    },
    {
     "name": "stdout",
     "output_type": "stream",
     "text": [
      "The number is Palindrome\n"
     ]
    }
   ],
   "source": [
    "num = int(input(\"enter a number:\"))\n",
    "temp = num\n",
    "rev = 0\n",
    "while(num>0):\n",
    "    rev=rev*10+num%10\n",
    "    num=num//10\n",
    "if temp==rev:\n",
    "    print(\"The number is Palindrome\")\n",
    "else:\n",
    "    print(\"the number is not palindrome\")"
   ]
  },
  {
   "cell_type": "code",
   "execution_count": null,
   "id": "c4554a6c-f4bd-4d1e-af4c-4accb216fdf8",
   "metadata": {},
   "outputs": [],
   "source": [
    "Ans.9"
   ]
  },
  {
   "cell_type": "code",
   "execution_count": null,
   "id": "52f9b0a2-4953-4183-94e6-9f68b642196d",
   "metadata": {},
   "outputs": [],
   "source": [
    "[i for i in range(1,101) if i%2==0"
   ]
  }
 ],
 "metadata": {
  "kernelspec": {
   "display_name": "Python 3 (ipykernel)",
   "language": "python",
   "name": "python3"
  },
  "language_info": {
   "codemirror_mode": {
    "name": "ipython",
    "version": 3
   },
   "file_extension": ".py",
   "mimetype": "text/x-python",
   "name": "python",
   "nbconvert_exporter": "python",
   "pygments_lexer": "ipython3",
   "version": "3.10.6"
  }
 },
 "nbformat": 4,
 "nbformat_minor": 5
}
